{
  "cells": [
    {
      "cell_type": "markdown",
      "metadata": {
        "id": "meI5qrz3x0WS"
      },
      "source": [
        "# Week 6 Lab: Lexical Semantics\n",
        "\n",
        "This week we turn our attention to lexical semantics, i.e., the meaning of words.  In this lab, you will be\n",
        "* exploring the WordNet resource\n",
        "* learning about lexical relations such as synonymy and hyponymy\n",
        "* quantifying semantic similarity via distance in the WordNet hierarchy\n",
        "* comparing WordNet similarity scores with human synonymy judgements\n",
        "\n",
        "\n"
      ]
    },
    {
      "cell_type": "code",
      "execution_count": null,
      "metadata": {
        "id": "r9-TaPbgx0WU"
      },
      "outputs": [],
      "source": [
        "###uncomment if working on colab\n",
        "\n",
        "#from google.colab import drive\n",
        "#drive.mount('/content/drive')\n"
      ]
    },
    {
      "cell_type": "markdown",
      "metadata": {
        "id": "IT_oEZgEx0Wa"
      },
      "source": [
        "First, lets import WordNet from the nltk library"
      ]
    },
    {
      "cell_type": "code",
      "execution_count": null,
      "metadata": {
        "id": "Sr0Q3HlPx0Wa"
      },
      "outputs": [],
      "source": [
        "#import nltk\n",
        "#nltk.download('wordnet')\n",
        "#nltk.download('wordnet_ic')\n",
        "\n",
        "from nltk.corpus import wordnet as wn\n",
        "from nltk.corpus import wordnet_ic as wn_ic\n"
      ]
    },
    {
      "cell_type": "markdown",
      "metadata": {
        "id": "_eRGZcKhx0Wh"
      },
      "source": [
        "## Navigating WordNet\n",
        "\n",
        "Central to the organisation of WordNet is the idea of a synset.  Words have senses and senses are grouped with synonymous senses (of other words) in **synsets**\n",
        "\n",
        "If you want to find out which synsets a word belongs to, you use the `synsets` function.  "
      ]
    },
    {
      "cell_type": "code",
      "execution_count": null,
      "metadata": {
        "colab": {
          "base_uri": "https://localhost:8080/"
        },
        "id": "NB2PqZqbx0Wi",
        "outputId": "e59ce27b-679a-4818-fdb2-345c2141e4e6"
      },
      "outputs": [
        {
          "data": {
            "text/plain": [
              "[Synset('plant.n.01'),\n",
              " Synset('plant.n.02'),\n",
              " Synset('plant.n.03'),\n",
              " Synset('plant.n.04'),\n",
              " Synset('plant.v.01'),\n",
              " Synset('implant.v.01'),\n",
              " Synset('establish.v.02'),\n",
              " Synset('plant.v.04'),\n",
              " Synset('plant.v.05'),\n",
              " Synset('plant.v.06')]"
            ]
          },
          "execution_count": 2,
          "metadata": {},
          "output_type": "execute_result"
        }
      ],
      "source": [
        "from nltk.corpus import wordnet as wn\n",
        "wn.synsets(\"plant\")"
      ]
    },
    {
      "cell_type": "markdown",
      "metadata": {
        "id": "bfTgERxcx0Wn"
      },
      "source": [
        "The output is a list of `Synset` objects each of which has a unique identifier containing one of its words, its part of speech and a number.  `Synset('book.n.01')` is the first noun sense of *book*.  However the word book is also in `Synset('record.n.05')` which is the fifth noun sense of *record*.  Lets inspect this synset further."
      ]
    },
    {
      "cell_type": "code",
      "execution_count": null,
      "metadata": {
        "colab": {
          "base_uri": "https://localhost:8080/"
        },
        "id": "AhydtCxOx0Wo",
        "outputId": "ef25885a-594a-457b-a164-5612276da4e9"
      },
      "outputs": [
        {
          "name": "stdout",
          "output_type": "stream",
          "text": [
            "['record', 'record_book', 'book']\n",
            "a compilation of the known facts regarding something or someone\n",
            "[\"Al Smith used to say, `Let's look at the record'\", 'his name is in all the record books']\n"
          ]
        }
      ],
      "source": [
        "book_synsets=wn.synsets('book')\n",
        "recordn5=book_synsets[2]\n",
        "print(recordn5.lemma_names())  #get the words in the synset\n",
        "print(recordn5.definition())   #get the definition of the synset\n",
        "print(recordn5.examples())  #get examples of the words used in this sense"
      ]
    },
    {
      "cell_type": "code",
      "execution_count": null,
      "metadata": {
        "id": "wtlLVc0LEHMo",
        "outputId": "dc3f504f-a76b-4afb-c398-a500dca7c182"
      },
      "outputs": [
        {
          "name": "stdout",
          "output_type": "stream",
          "text": [
            "1:buildings for carrying on industrial labor\n",
            "2:(botany) a living organism lacking the power of locomotion\n",
            "3:an actor situated in the audience whose acting is rehearsed but seems spontaneous to the audience\n",
            "4:something planted secretly for discovery by another\n",
            "5:put or set (seeds, seedlings, or plants) into the ground\n",
            "6:fix or set securely or deeply\n",
            "7:set up or lay the groundwork for\n",
            "8:place into a river\n",
            "9:place something or someone in a certain position in order to secretly observe or deceive\n",
            "10:put firmly in the mind\n"
          ]
        }
      ],
      "source": [
        "plant_synsets=wn.synsets('plant')\n",
        "for i,s in enumerate(plant_synsets):\n",
        "    print(\"{}:{}\".format(i+1,s.definition()))"
      ]
    },
    {
      "cell_type": "markdown",
      "metadata": {
        "id": "v7TXDt_tx0Ws"
      },
      "source": [
        "If you only want to find synsets associated with a particular part of speech of a word then you can give `synsets` an extra argument"
      ]
    },
    {
      "cell_type": "code",
      "execution_count": null,
      "metadata": {
        "colab": {
          "base_uri": "https://localhost:8080/"
        },
        "id": "5BoxPB5kx0Wt",
        "outputId": "3cfc4917-9bcb-4a36-ffa1-08e4c654f23e"
      },
      "outputs": [
        {
          "name": "stdout",
          "output_type": "stream",
          "text": [
            "[Synset('red.n.01'), Synset('red.n.02'), Synset('bolshevik.n.01'), Synset('loss.n.06')]\n"
          ]
        }
      ],
      "source": [
        "#all of the WN POS tags\n",
        "parts_of_speech=[wn.NOUN,wn.VERB,wn.ADJ,wn.ADV]\n",
        "\n",
        "print(wn.synsets(\"red\",parts_of_speech[0]))\n"
      ]
    },
    {
      "cell_type": "markdown",
      "metadata": {
        "id": "EuCYGSbIx0Ww"
      },
      "source": [
        "### Exercise 1.1\n",
        "* Write code to compute the number of synsets of each part of speech (noun, verb, adjective and adverb) for each of the following words:- book, chicken, counter, twig, fast, plant\n",
        "* Store and display the information using a Pandas dataframe\n",
        "\n",
        "Hint: you could use a nested list comprehension"
      ]
    },
    {
      "cell_type": "code",
      "execution_count": null,
      "metadata": {
        "colab": {
          "base_uri": "https://localhost:8080/",
          "height": 235
        },
        "id": "Gqn533ZUx0Wx",
        "outputId": "c1291180-5d4b-4df5-c053-4ecb367c886f"
      },
      "outputs": [
        {
          "data": {
            "text/html": [
              "<div>\n",
              "<style scoped>\n",
              "    .dataframe tbody tr th:only-of-type {\n",
              "        vertical-align: middle;\n",
              "    }\n",
              "\n",
              "    .dataframe tbody tr th {\n",
              "        vertical-align: top;\n",
              "    }\n",
              "\n",
              "    .dataframe thead th {\n",
              "        text-align: right;\n",
              "    }\n",
              "</style>\n",
              "<table border=\"1\" class=\"dataframe\">\n",
              "  <thead>\n",
              "    <tr style=\"text-align: right;\">\n",
              "      <th></th>\n",
              "      <th>n</th>\n",
              "      <th>v</th>\n",
              "      <th>a</th>\n",
              "      <th>r</th>\n",
              "    </tr>\n",
              "  </thead>\n",
              "  <tbody>\n",
              "    <tr>\n",
              "      <th>book</th>\n",
              "      <td>11</td>\n",
              "      <td>4</td>\n",
              "      <td>0</td>\n",
              "      <td>0</td>\n",
              "    </tr>\n",
              "    <tr>\n",
              "      <th>chicken</th>\n",
              "      <td>4</td>\n",
              "      <td>0</td>\n",
              "      <td>1</td>\n",
              "      <td>0</td>\n",
              "    </tr>\n",
              "    <tr>\n",
              "      <th>counter</th>\n",
              "      <td>9</td>\n",
              "      <td>2</td>\n",
              "      <td>1</td>\n",
              "      <td>1</td>\n",
              "    </tr>\n",
              "    <tr>\n",
              "      <th>twig</th>\n",
              "      <td>1</td>\n",
              "      <td>2</td>\n",
              "      <td>0</td>\n",
              "      <td>0</td>\n",
              "    </tr>\n",
              "    <tr>\n",
              "      <th>fast</th>\n",
              "      <td>1</td>\n",
              "      <td>2</td>\n",
              "      <td>10</td>\n",
              "      <td>2</td>\n",
              "    </tr>\n",
              "    <tr>\n",
              "      <th>plant</th>\n",
              "      <td>4</td>\n",
              "      <td>6</td>\n",
              "      <td>0</td>\n",
              "      <td>0</td>\n",
              "    </tr>\n",
              "  </tbody>\n",
              "</table>\n",
              "</div>"
            ],
            "text/plain": [
              "          n  v   a  r\n",
              "book     11  4   0  0\n",
              "chicken   4  0   1  0\n",
              "counter   9  2   1  1\n",
              "twig      1  2   0  0\n",
              "fast      1  2  10  2\n",
              "plant     4  6   0  0"
            ]
          },
          "execution_count": 6,
          "metadata": {},
          "output_type": "execute_result"
        }
      ],
      "source": [
        "import pandas as pd\n",
        "words=[\"book\",\"chicken\",\"counter\",\"twig\",\"fast\",\"plant\"]\n",
        "\n",
        "results=[[len(wn.synsets(word,pos)) for pos in parts_of_speech]for word in words]\n",
        "\n",
        "df =pd.DataFrame(results,index=words,columns=parts_of_speech)\n",
        "df"
      ]
    },
    {
      "cell_type": "markdown",
      "metadata": {
        "id": "t5W1JRbJGNEM"
      },
      "source": [
        "The `Synset` object has a `lemmas()` method which returns all of the lemmas / word senses which make up that synset.  Remember, it is one sense of each word which is considered as synonymous within the synset.  Not every sense of *plant* is considered synonymous with every sense of *works*.  "
      ]
    },
    {
      "cell_type": "code",
      "execution_count": null,
      "metadata": {
        "id": "fTyC3bLjEHMq",
        "outputId": "4e7c5732-856f-4b40-ccb1-5e2df2d30c1b"
      },
      "outputs": [
        {
          "name": "stdout",
          "output_type": "stream",
          "text": [
            "0:[Lemma('plant.n.01.plant'), Lemma('plant.n.01.works'), Lemma('plant.n.01.industrial_plant')]\n",
            "1:[Lemma('plant.n.02.plant'), Lemma('plant.n.02.flora'), Lemma('plant.n.02.plant_life')]\n",
            "2:[Lemma('plant.n.03.plant')]\n",
            "3:[Lemma('plant.n.04.plant')]\n",
            "4:[Lemma('plant.v.01.plant'), Lemma('plant.v.01.set')]\n",
            "5:[Lemma('implant.v.01.implant'), Lemma('implant.v.01.engraft'), Lemma('implant.v.01.embed'), Lemma('implant.v.01.imbed'), Lemma('implant.v.01.plant')]\n",
            "6:[Lemma('establish.v.02.establish'), Lemma('establish.v.02.found'), Lemma('establish.v.02.plant'), Lemma('establish.v.02.constitute'), Lemma('establish.v.02.institute')]\n",
            "7:[Lemma('plant.v.04.plant')]\n",
            "8:[Lemma('plant.v.05.plant')]\n",
            "9:[Lemma('plant.v.06.plant'), Lemma('plant.v.06.implant')]\n"
          ]
        }
      ],
      "source": [
        "for i,s in enumerate(plant_synsets):\n",
        "    print(\"{}:{}\".format(i,s.lemmas()))"
      ]
    },
    {
      "cell_type": "markdown",
      "metadata": {
        "id": "ptpP_UBxEHMq"
      },
      "source": [
        "Access the word form of a `Lemma` using its `names()` method."
      ]
    },
    {
      "cell_type": "code",
      "execution_count": null,
      "metadata": {
        "id": "VSO48Bk0EHMq",
        "outputId": "eac5ab65-be25-43bd-e1ab-4db8b953fad0"
      },
      "outputs": [
        {
          "name": "stdout",
          "output_type": "stream",
          "text": [
            "0:['cat', 'true_cat']\n",
            "\tfeline mammal usually having thick soft fur and no ability to roar: domestic cats; wildcats\n",
            "1:['guy', 'cat', 'hombre', 'bozo']\n",
            "\tan informal term for a youth or man\n",
            "2:['cat']\n",
            "\ta spiteful woman gossip\n",
            "3:['kat', 'khat', 'qat', 'quat', 'cat', 'Arabian_tea', 'African_tea']\n",
            "\tthe leaves of the shrub Catha edulis which are chewed like tobacco or used to make tea; has the effect of a euphoric stimulant\n",
            "4:[\"cat-o'-nine-tails\", 'cat']\n",
            "\ta whip with nine knotted cords\n",
            "5:['Caterpillar', 'cat']\n",
            "\ta large tracked vehicle that is propelled by two endless metal belts; frequently used for moving earth in construction and farm work\n",
            "6:['big_cat', 'cat']\n",
            "\tany of several large cats typically able to roar and living in the wild\n",
            "7:['computerized_tomography', 'computed_tomography', 'CT', 'computerized_axial_tomography', 'computed_axial_tomography', 'CAT']\n",
            "\ta method of examining body organs by scanning them with X rays and using a computer to construct a series of cross-sectional scans along a single axis\n"
          ]
        }
      ],
      "source": [
        "cat_synsets = wn.synsets(\"cat\",wn.NOUN)\n",
        "for i,s in enumerate(cat_synsets):\n",
        "    wordforms=[l.name() for l in s.lemmas()]\n",
        "    print(\"{}:{}\\n\\t{}\".format(i,wordforms,s.definition()))"
      ]
    },
    {
      "cell_type": "markdown",
      "metadata": {
        "id": "eIZpPnrYx0W2"
      },
      "source": [
        "The `Synset` object also has `hyponyms` and `hypernyms` methods which return hyponym and hypernym synsets respectively.\n",
        "\n",
        "For example:"
      ]
    },
    {
      "cell_type": "code",
      "execution_count": null,
      "metadata": {
        "colab": {
          "base_uri": "https://localhost:8080/"
        },
        "id": "TuAnSX4qx0W2",
        "outputId": "2a6d68bc-42ea-4878-fd25-8490eb3a6c2c"
      },
      "outputs": [
        {
          "data": {
            "text/plain": [
              "[Synset('card.n.08'), Synset('logbook.n.01'), Synset('won-lost_record.n.01')]"
            ]
          },
          "execution_count": 12,
          "metadata": {},
          "output_type": "execute_result"
        }
      ],
      "source": [
        "#getting back the list of hyponym synsets for recordn5 (the 5th noun sense of record)\n",
        "recordn5.hyponyms()"
      ]
    },
    {
      "cell_type": "code",
      "execution_count": null,
      "metadata": {
        "id": "9-ZVHkVUEHMr",
        "outputId": "1331f028-4318-4e16-de33-54a59748b30b"
      },
      "outputs": [
        {
          "name": "stdout",
          "output_type": "stream",
          "text": [
            "['cheetah', 'chetah', 'Acinonyx_jubatus']:long-legged spotted cat of Africa and southwestern Asia having nonretractile claws; the swiftest mammal; can be trained to run down game\n",
            "['jaguar', 'panther', 'Panthera_onca', 'Felis_onca']:a large spotted feline of tropical America similar to the leopard; in some classifications considered a member of the genus Felis\n",
            "['leopard', 'Panthera_pardus']:large feline of African and Asian forests usually having a tawny coat with black spots\n",
            "['liger']:offspring of a male lion and a female tiger\n",
            "['lion', 'king_of_beasts', 'Panthera_leo']:large gregarious predatory feline of Africa and India having a tawny coat with a shaggy mane in the male\n",
            "['saber-toothed_tiger', 'sabertooth']:any of many extinct cats of the Old and New Worlds having long swordlike upper canine teeth; from the Oligocene through the Pleistocene\n",
            "['snow_leopard', 'ounce', 'Panthera_uncia']:large feline of upland central Asia having long thick whitish fur\n",
            "['tiger', 'Panthera_tigris']:large feline of forests in most of Asia having a tawny coat with black stripes; endangered\n",
            "['tiglon', 'tigon']:offspring of a male tiger and a female lion\n"
          ]
        }
      ],
      "source": [
        "#iterating over the hyponyms of the 6th Synset in the list of synsets for cat\n",
        "for h in cat_synsets[6].hyponyms():\n",
        "    h_words=[w.name() for w in h.lemmas()]\n",
        "    print(\"{}:{}\".format(h_words,h.definition()))"
      ]
    },
    {
      "cell_type": "code",
      "execution_count": null,
      "metadata": {
        "id": "AbrNQMBIEHMr",
        "outputId": "51fffd5a-fe41-47bb-9fa9-75607651ea74"
      },
      "outputs": [
        {
          "name": "stdout",
          "output_type": "stream",
          "text": [
            "['feline', 'felid']:any of various lithe-bodied roundheaded fissiped mammals, many with retractile claws\n"
          ]
        }
      ],
      "source": [
        "##Iterating over the hypernyms of the 6th sense of cat and output lemma names and definition\n",
        "for h in cat_synsets[6].hypernyms():\n",
        "    h_words=[w.name() for w in h.lemmas()]\n",
        "    print(\"{}:{}\".format(h_words,h.definition()))"
      ]
    },
    {
      "cell_type": "markdown",
      "metadata": {
        "id": "XDr-mGvYEHMr"
      },
      "source": [
        "As an alternative to calling .names() on the Lemmas associated with a Synset, you can also use the .lemma_names() method directly on a synset."
      ]
    },
    {
      "cell_type": "code",
      "execution_count": null,
      "metadata": {
        "colab": {
          "base_uri": "https://localhost:8080/"
        },
        "id": "luB2TjF6x0W5",
        "outputId": "74235e5a-7ca6-4e4d-b65d-3e43545cbd24"
      },
      "outputs": [
        {
          "name": "stdout",
          "output_type": "stream",
          "text": [
            "['fact']\n"
          ]
        }
      ],
      "source": [
        "for h in recordn5.hypernyms():\n",
        "  print(h.lemma_names())"
      ]
    },
    {
      "cell_type": "markdown",
      "metadata": {
        "id": "CudFnfA_x0W8"
      },
      "source": [
        "Since the hyponymy relation forms a tree, we would expect synsets to generally have multiple hyponyms and a single hypernym.  At the top of the tree (also called the **root**), the hypernym list will be empty.  Most noun concepts in WordNet share a common root hypernym which is *entity*.  At the bottom of the tree (also referred to as the **leaves** of the tree), the hyponym list will be empty"
      ]
    },
    {
      "cell_type": "markdown",
      "metadata": {
        "id": "LWssYf-Gx0W9"
      },
      "source": [
        "### Exercise 1.2\n",
        "Write a function, `distance_to_root` that will take a Synset and traverse up the tree until it reaches a root of the tree.  When it does so, it should return the number of steps taken.\n",
        "\n",
        "Hint: This can be done using **recursion**, where a function repeatedly calls itself.  You need to define:\n",
        "* a base case:  How will the function know when it is at the top of the tree and what should it return?\n",
        "* a recursive step: In the general case, the function should call itself with a simpler problem (a Synset which is closer to the top of the tree).  When it gets the result of this function call, it needs to modify it in some way and then return its own answer\n",
        "\n",
        "Make sure you test your function.  You should find that the 5th noun sense of record is 6 steps from the top.\n",
        "\n",
        "How far are all of the other noun sense of book from a root of the tree?\n",
        "\n",
        "\n"
      ]
    },
    {
      "cell_type": "code",
      "execution_count": null,
      "metadata": {
        "colab": {
          "base_uri": "https://localhost:8080/"
        },
        "id": "xrqQsGUWx0W9",
        "outputId": "20cf3a89-b8d8-41a8-851d-1e0e14c0dd2f"
      },
      "outputs": [
        {
          "name": "stdout",
          "output_type": "stream",
          "text": [
            "['plant', 'works', 'industrial_plant'] 7\n",
            "['plant', 'flora', 'plant_life'] 6\n",
            "Warning: multiple hypernyms\n",
            "['plant'] 7\n",
            "['plant'] 10\n"
          ]
        }
      ],
      "source": [
        "def distance_to_root(asynset):\n",
        "    #print(asynset.lemma_names())\n",
        "    hypernyms=asynset.hypernyms()\n",
        "    if len(hypernyms)==0:\n",
        "        #reached the top and have to stop\n",
        "        return 0\n",
        "    else:\n",
        "        if len(hypernyms)>1:\n",
        "            print(\"Warning: multiple hypernyms\")\n",
        "        return (distance_to_root(hypernyms[0])+1)\n",
        "    \n",
        "for asynset in wn.synsets('plant',wn.NOUN):\n",
        "    print(asynset.lemma_names(),distance_to_root(asynset))"
      ]
    },
    {
      "cell_type": "markdown",
      "metadata": {
        "id": "2zyRTqZgx0XI"
      },
      "source": [
        "## Semantic Similarity in WordNet\n",
        "\n",
        "The simplest way of defining how similar two concepts are according to WordNet is to use the pathlength measure:\n",
        "\n",
        "\\begin{eqnarray*}\n",
        "\\mbox{sim}(\\mbox{synsetA},\\mbox{synsetB})=\\frac{1}{1+\\mbox{lengthOfPath}(\\mbox{synsetA},\\mbox{synsetB})}\n",
        "\\end{eqnarray*}\n",
        "\n",
        "We have also introduced other measures in the lectures which incorporate **information content**, i.e., the amount of information we receive when a word from a given synset is used (there is more information in being told that something is a *poodle* than in being told it is an *animal*).\n",
        "\n",
        "The `nltk.wn` module has built-in functions for computing these similarities between synsets."
      ]
    },
    {
      "cell_type": "code",
      "execution_count": null,
      "metadata": {
        "colab": {
          "base_uri": "https://localhost:8080/"
        },
        "id": "E7IOQRN9x0XJ",
        "outputId": "3a0cec3f-fcbf-475b-cbf5-5ddc0b4aa03b"
      },
      "outputs": [
        {
          "name": "stdout",
          "output_type": "stream",
          "text": [
            "path_similarity 0.2\n",
            "resnik_similarity 5.454686565783099\n",
            "lin_similarity 0.7098990245459575\n"
          ]
        }
      ],
      "source": [
        "books=wn.synsets(\"book\",wn.NOUN)\n",
        "print(\"path_similarity {}\".format(wn.path_similarity(books[0],books[1])))\n",
        "\n",
        "brown_ic=wn_ic.ic(\"ic-brown.dat\")  #this gets information content data from the Brown corpus\n",
        "print(\"resnik_similarity {}\".format(wn.res_similarity(books[0],books[1],brown_ic)))\n",
        "print(\"lin_similarity {}\".format(wn.lin_similarity(books[0],books[1],brown_ic)))"
      ]
    },
    {
      "cell_type": "markdown",
      "metadata": {
        "id": "a_KGE06Tx0XM"
      },
      "source": [
        "Note it is impossible to compare synsets of different parts of speech using these methods because they are not connected via hyponymy"
      ]
    },
    {
      "cell_type": "code",
      "execution_count": null,
      "metadata": {
        "colab": {
          "base_uri": "https://localhost:8080/",
          "height": 375
        },
        "id": "-9c7H_Qdx0XN",
        "outputId": "9c42f099-54bc-42d7-840b-358659910542"
      },
      "outputs": [
        {
          "name": "stdout",
          "output_type": "stream",
          "text": [
            "path_similarity 0.058823529411764705\n"
          ]
        },
        {
          "ename": "WordNetError",
          "evalue": "Computing the least common subsumer requires Synset('book.n.01') and Synset('reserve.v.04') to have the same part of speech.",
          "output_type": "error",
          "traceback": [
            "\u001b[0;31m---------------------------------------------------------------------------\u001b[0m",
            "\u001b[0;31mWordNetError\u001b[0m                              Traceback (most recent call last)",
            "\u001b[0;32m<ipython-input-19-552fbfdbf6af>\u001b[0m in \u001b[0;36m<module>\u001b[0;34m\u001b[0m\n\u001b[1;32m      2\u001b[0m \u001b[0mbooksV\u001b[0m\u001b[0;34m=\u001b[0m\u001b[0mwn\u001b[0m\u001b[0;34m.\u001b[0m\u001b[0msynsets\u001b[0m\u001b[0;34m(\u001b[0m\u001b[0;34m\"book\"\u001b[0m\u001b[0;34m,\u001b[0m\u001b[0mwn\u001b[0m\u001b[0;34m.\u001b[0m\u001b[0mVERB\u001b[0m\u001b[0;34m)\u001b[0m\u001b[0;34m\u001b[0m\u001b[0;34m\u001b[0m\u001b[0m\n\u001b[1;32m      3\u001b[0m \u001b[0mprint\u001b[0m\u001b[0;34m(\u001b[0m\u001b[0;34m\"path_similarity {}\"\u001b[0m\u001b[0;34m.\u001b[0m\u001b[0mformat\u001b[0m\u001b[0;34m(\u001b[0m\u001b[0mwn\u001b[0m\u001b[0;34m.\u001b[0m\u001b[0mpath_similarity\u001b[0m\u001b[0;34m(\u001b[0m\u001b[0mbooksN\u001b[0m\u001b[0;34m[\u001b[0m\u001b[0;36m0\u001b[0m\u001b[0;34m]\u001b[0m\u001b[0;34m,\u001b[0m\u001b[0mbooksV\u001b[0m\u001b[0;34m[\u001b[0m\u001b[0;36m1\u001b[0m\u001b[0;34m]\u001b[0m\u001b[0;34m)\u001b[0m\u001b[0;34m)\u001b[0m\u001b[0;34m)\u001b[0m\u001b[0;34m\u001b[0m\u001b[0;34m\u001b[0m\u001b[0m\n\u001b[0;32m----> 4\u001b[0;31m \u001b[0mprint\u001b[0m\u001b[0;34m(\u001b[0m\u001b[0;34m\"resnik_similarity {}\"\u001b[0m\u001b[0;34m.\u001b[0m\u001b[0mformat\u001b[0m\u001b[0;34m(\u001b[0m\u001b[0mwn\u001b[0m\u001b[0;34m.\u001b[0m\u001b[0mres_similarity\u001b[0m\u001b[0;34m(\u001b[0m\u001b[0mbooksN\u001b[0m\u001b[0;34m[\u001b[0m\u001b[0;36m0\u001b[0m\u001b[0;34m]\u001b[0m\u001b[0;34m,\u001b[0m\u001b[0mbooksV\u001b[0m\u001b[0;34m[\u001b[0m\u001b[0;36m1\u001b[0m\u001b[0;34m]\u001b[0m\u001b[0;34m,\u001b[0m\u001b[0mbrown_ic\u001b[0m\u001b[0;34m)\u001b[0m\u001b[0;34m)\u001b[0m\u001b[0;34m)\u001b[0m\u001b[0;34m\u001b[0m\u001b[0;34m\u001b[0m\u001b[0m\n\u001b[0m\u001b[1;32m      5\u001b[0m \u001b[0mprint\u001b[0m\u001b[0;34m(\u001b[0m\u001b[0;34m\"lin_similarity {}\"\u001b[0m\u001b[0;34m.\u001b[0m\u001b[0mformat\u001b[0m\u001b[0;34m(\u001b[0m\u001b[0mwn\u001b[0m\u001b[0;34m.\u001b[0m\u001b[0mlin_similarity\u001b[0m\u001b[0;34m(\u001b[0m\u001b[0mbooksN\u001b[0m\u001b[0;34m[\u001b[0m\u001b[0;36m0\u001b[0m\u001b[0;34m]\u001b[0m\u001b[0;34m,\u001b[0m\u001b[0mbooksV\u001b[0m\u001b[0;34m[\u001b[0m\u001b[0;36m1\u001b[0m\u001b[0;34m]\u001b[0m\u001b[0;34m,\u001b[0m\u001b[0mbrown_ic\u001b[0m\u001b[0;34m)\u001b[0m\u001b[0;34m)\u001b[0m\u001b[0;34m)\u001b[0m\u001b[0;34m\u001b[0m\u001b[0;34m\u001b[0m\u001b[0m\n",
            "\u001b[0;32m~/opt/anaconda3/lib/python3.7/site-packages/nltk/corpus/reader/wordnet.py\u001b[0m in \u001b[0;36mres_similarity\u001b[0;34m(self, synset1, synset2, ic, verbose)\u001b[0m\n\u001b[1;32m   1826\u001b[0m \u001b[0;34m\u001b[0m\u001b[0m\n\u001b[1;32m   1827\u001b[0m     \u001b[0;32mdef\u001b[0m \u001b[0mres_similarity\u001b[0m\u001b[0;34m(\u001b[0m\u001b[0mself\u001b[0m\u001b[0;34m,\u001b[0m \u001b[0msynset1\u001b[0m\u001b[0;34m,\u001b[0m \u001b[0msynset2\u001b[0m\u001b[0;34m,\u001b[0m \u001b[0mic\u001b[0m\u001b[0;34m,\u001b[0m \u001b[0mverbose\u001b[0m\u001b[0;34m=\u001b[0m\u001b[0;32mFalse\u001b[0m\u001b[0;34m)\u001b[0m\u001b[0;34m:\u001b[0m\u001b[0;34m\u001b[0m\u001b[0;34m\u001b[0m\u001b[0m\n\u001b[0;32m-> 1828\u001b[0;31m         \u001b[0;32mreturn\u001b[0m \u001b[0msynset1\u001b[0m\u001b[0;34m.\u001b[0m\u001b[0mres_similarity\u001b[0m\u001b[0;34m(\u001b[0m\u001b[0msynset2\u001b[0m\u001b[0;34m,\u001b[0m \u001b[0mic\u001b[0m\u001b[0;34m,\u001b[0m \u001b[0mverbose\u001b[0m\u001b[0;34m)\u001b[0m\u001b[0;34m\u001b[0m\u001b[0;34m\u001b[0m\u001b[0m\n\u001b[0m\u001b[1;32m   1829\u001b[0m \u001b[0;34m\u001b[0m\u001b[0m\n\u001b[1;32m   1830\u001b[0m     \u001b[0mres_similarity\u001b[0m\u001b[0;34m.\u001b[0m\u001b[0m__doc__\u001b[0m \u001b[0;34m=\u001b[0m \u001b[0mSynset\u001b[0m\u001b[0;34m.\u001b[0m\u001b[0mres_similarity\u001b[0m\u001b[0;34m.\u001b[0m\u001b[0m__doc__\u001b[0m\u001b[0;34m\u001b[0m\u001b[0;34m\u001b[0m\u001b[0m\n",
            "\u001b[0;32m~/opt/anaconda3/lib/python3.7/site-packages/nltk/corpus/reader/wordnet.py\u001b[0m in \u001b[0;36mres_similarity\u001b[0;34m(self, other, ic, verbose)\u001b[0m\n\u001b[1;32m    994\u001b[0m         \"\"\"\n\u001b[1;32m    995\u001b[0m \u001b[0;34m\u001b[0m\u001b[0m\n\u001b[0;32m--> 996\u001b[0;31m         \u001b[0mic1\u001b[0m\u001b[0;34m,\u001b[0m \u001b[0mic2\u001b[0m\u001b[0;34m,\u001b[0m \u001b[0mlcs_ic\u001b[0m \u001b[0;34m=\u001b[0m \u001b[0m_lcs_ic\u001b[0m\u001b[0;34m(\u001b[0m\u001b[0mself\u001b[0m\u001b[0;34m,\u001b[0m \u001b[0mother\u001b[0m\u001b[0;34m,\u001b[0m \u001b[0mic\u001b[0m\u001b[0;34m)\u001b[0m\u001b[0;34m\u001b[0m\u001b[0;34m\u001b[0m\u001b[0m\n\u001b[0m\u001b[1;32m    997\u001b[0m         \u001b[0;32mreturn\u001b[0m \u001b[0mlcs_ic\u001b[0m\u001b[0;34m\u001b[0m\u001b[0;34m\u001b[0m\u001b[0m\n\u001b[1;32m    998\u001b[0m \u001b[0;34m\u001b[0m\u001b[0m\n",
            "\u001b[0;32m~/opt/anaconda3/lib/python3.7/site-packages/nltk/corpus/reader/wordnet.py\u001b[0m in \u001b[0;36m_lcs_ic\u001b[0;34m(synset1, synset2, ic, verbose)\u001b[0m\n\u001b[1;32m   2158\u001b[0m         raise WordNetError(\n\u001b[1;32m   2159\u001b[0m             \u001b[0;34m\"Computing the least common subsumer requires \"\u001b[0m\u001b[0;34m\u001b[0m\u001b[0;34m\u001b[0m\u001b[0m\n\u001b[0;32m-> 2160\u001b[0;31m             \u001b[0;34m\"%s and %s to have the same part of speech.\"\u001b[0m \u001b[0;34m%\u001b[0m \u001b[0;34m(\u001b[0m\u001b[0msynset1\u001b[0m\u001b[0;34m,\u001b[0m \u001b[0msynset2\u001b[0m\u001b[0;34m)\u001b[0m\u001b[0;34m\u001b[0m\u001b[0;34m\u001b[0m\u001b[0m\n\u001b[0m\u001b[1;32m   2161\u001b[0m         )\n\u001b[1;32m   2162\u001b[0m \u001b[0;34m\u001b[0m\u001b[0m\n",
            "\u001b[0;31mWordNetError\u001b[0m: Computing the least common subsumer requires Synset('book.n.01') and Synset('reserve.v.04') to have the same part of speech."
          ]
        }
      ],
      "source": [
        "booksN=wn.synsets(\"book\",wn.NOUN)\n",
        "booksV=wn.synsets(\"book\",wn.VERB)\n",
        "print(\"path_similarity {}\".format(wn.path_similarity(booksN[0],booksV[1])))\n",
        "print(\"resnik_similarity {}\".format(wn.res_similarity(booksN[0],booksV[1],brown_ic)))\n",
        "print(\"lin_similarity {}\".format(wn.lin_similarity(booksN[0],booksV[1],brown_ic)))"
      ]
    },
    {
      "cell_type": "markdown",
      "metadata": {
        "id": "_OZSCQQZx0XP"
      },
      "source": [
        "### Exercise 2.1\n",
        "\n",
        "The similarity of two **words** with a given part of speech is defined as the **maximum** similarity of all possible sense pairings.  If word A has 5 noun senses and word B has 4 noun senses than there are 20 possible sense pairings to check.\n",
        "\n",
        "* Write a function which will compute the path_similarity of two nouns.\n",
        "* Make sure you test it.  The correct answer for *chicken* and *car* is 0.0909 to 3SF"
      ]
    },
    {
      "cell_type": "code",
      "execution_count": null,
      "metadata": {
        "colab": {
          "base_uri": "https://localhost:8080/"
        },
        "id": "OPt2ZM2Bx0XQ",
        "outputId": "df93fa36-f8d0-4065-a5ea-271f0e8b0f83"
      },
      "outputs": [
        {
          "data": {
            "text/plain": [
              "0.09090909090909091"
            ]
          },
          "execution_count": 20,
          "metadata": {},
          "output_type": "execute_result"
        }
      ],
      "source": [
        "def path_similarity(wordA,wordB,pos=wn.NOUN):\n",
        "    synsetsA=wn.synsets(wordA,pos)\n",
        "    synsetsB=wn.synsets(wordB,pos)\n",
        "    maxsofar=0\n",
        "    for synsetA in synsetsA:\n",
        "        for synsetB in synsetsB:\n",
        "            sim=wn.path_similarity(synsetA,synsetB)\n",
        "            if sim>maxsofar:\n",
        "                maxsofar=sim\n",
        "    return maxsofar\n",
        "\n",
        "path_similarity(\"chicken\",\"car\")"
      ]
    },
    {
      "cell_type": "markdown",
      "metadata": {
        "id": "B9PDsl7vx0XT"
      },
      "source": [
        "### Exercise 2.2\n",
        "Generalise your path_similarity function so that it takes an extra optional argument:\n",
        "* the similarity measure to use\n"
      ]
    },
    {
      "cell_type": "code",
      "execution_count": null,
      "metadata": {
        "id": "hN1w-Qpbx0XT"
      },
      "outputs": [],
      "source": [
        "def word_similarity(wordA,wordB,pos=wn.NOUN,measure=\"path\"):\n",
        "    synsetsA=wn.synsets(wordA,pos)\n",
        "    synsetsB=wn.synsets(wordB,pos)\n",
        "    maxsofar=0\n",
        "    brown_ic=wn_ic.ic(\"ic-brown.dat\")\n",
        "    for synsetA in synsetsA:\n",
        "        for synsetB in synsetsB:\n",
        "            if measure==\"path\":\n",
        "                sim=wn.path_similarity(synsetA,synsetB)\n",
        "            elif measure==\"res\":\n",
        "                sim=wn.res_similarity(synsetA,synsetB,brown_ic)\n",
        "            elif measure==\"lin\":\n",
        "                sim=wn.lin_similarity(synsetA,synsetB,brown_ic)\n",
        "            \n",
        "            if sim>maxsofar:\n",
        "                maxsofar=sim\n",
        "    return maxsofar"
      ]
    },
    {
      "cell_type": "code",
      "execution_count": null,
      "metadata": {
        "colab": {
          "base_uri": "https://localhost:8080/"
        },
        "id": "hVYBNfT_x0XX",
        "outputId": "b946babb-1133-477b-903e-b029566e8dcb"
      },
      "outputs": [
        {
          "data": {
            "text/plain": [
              "0.17900106582025765"
            ]
          },
          "execution_count": 22,
          "metadata": {},
          "output_type": "execute_result"
        }
      ],
      "source": [
        "word_similarity(\"chicken\",\"car\",measure=\"lin\")"
      ]
    },
    {
      "cell_type": "markdown",
      "metadata": {
        "id": "1OJGUbmwx0Xa"
      },
      "source": [
        "## Comparing WordNet Similarities with Human Synonymy Judgements\n",
        "\n",
        "The file `mcdata.csv` contains human synonymy judgements for a list of 30 noun pairs.   We can read in a `.csv` file using the `csv` library "
      ]
    },
    {
      "cell_type": "code",
      "execution_count": null,
      "metadata": {
        "id": "ZKC0iTVOx0Xb"
      },
      "outputs": [],
      "source": [
        "import csv\n",
        "import os\n",
        "directory='/content/drive/My Drive/NLE Notebooks/Week5LabsSolutions/'\n",
        "filename='mcdata.csv'\n",
        "filepath=os.path.join(directory,filename)\n",
        "\n",
        "\n",
        "with open(filename,'r') as filestream:\n",
        "    mcdata=list(csv.reader(filestream,delimiter=','))\n",
        "\n",
        "df=pd.DataFrame(mcdata,columns=[\"word1\",\"word2\",\"human similarity\"])\n",
        "#lets make sure the scores are floats not strings.  We can do this by applying the float() function to every value in the column (which we can using map)\n",
        "df[\"human similarity\"]=df[\"human similarity\"].map(float)"
      ]
    },
    {
      "cell_type": "code",
      "execution_count": null,
      "metadata": {
        "id": "33m9OEQ5EHMu",
        "outputId": "fb22478d-f0ed-48d8-e5b0-7168c46837d8"
      },
      "outputs": [
        {
          "data": {
            "text/html": [
              "<div>\n",
              "<style scoped>\n",
              "    .dataframe tbody tr th:only-of-type {\n",
              "        vertical-align: middle;\n",
              "    }\n",
              "\n",
              "    .dataframe tbody tr th {\n",
              "        vertical-align: top;\n",
              "    }\n",
              "\n",
              "    .dataframe thead th {\n",
              "        text-align: right;\n",
              "    }\n",
              "</style>\n",
              "<table border=\"1\" class=\"dataframe\">\n",
              "  <thead>\n",
              "    <tr style=\"text-align: right;\">\n",
              "      <th></th>\n",
              "      <th>human similarity</th>\n",
              "    </tr>\n",
              "  </thead>\n",
              "  <tbody>\n",
              "    <tr>\n",
              "      <th>count</th>\n",
              "      <td>30.000000</td>\n",
              "    </tr>\n",
              "    <tr>\n",
              "      <th>mean</th>\n",
              "      <td>1.929000</td>\n",
              "    </tr>\n",
              "    <tr>\n",
              "      <th>std</th>\n",
              "      <td>1.419979</td>\n",
              "    </tr>\n",
              "    <tr>\n",
              "      <th>min</th>\n",
              "      <td>0.080000</td>\n",
              "    </tr>\n",
              "    <tr>\n",
              "      <th>25%</th>\n",
              "      <td>0.682500</td>\n",
              "    </tr>\n",
              "    <tr>\n",
              "      <th>50%</th>\n",
              "      <td>1.670000</td>\n",
              "    </tr>\n",
              "    <tr>\n",
              "      <th>75%</th>\n",
              "      <td>3.342500</td>\n",
              "    </tr>\n",
              "    <tr>\n",
              "      <th>max</th>\n",
              "      <td>3.920000</td>\n",
              "    </tr>\n",
              "  </tbody>\n",
              "</table>\n",
              "</div>"
            ],
            "text/plain": [
              "       human similarity\n",
              "count         30.000000\n",
              "mean           1.929000\n",
              "std            1.419979\n",
              "min            0.080000\n",
              "25%            0.682500\n",
              "50%            1.670000\n",
              "75%            3.342500\n",
              "max            3.920000"
            ]
          },
          "execution_count": 32,
          "metadata": {},
          "output_type": "execute_result"
        }
      ],
      "source": [
        "df.describe()"
      ]
    },
    {
      "cell_type": "markdown",
      "metadata": {
        "id": "3YdzQ023x0Xe"
      },
      "source": [
        "Note that the human similarity judgements range between 0 and 4.\n",
        "\n",
        "### Exercise 3.1\n",
        "Write code that will \n",
        "* compute the WordNet path_similarity for every pair of words in this data; and\n",
        "* add it as a column in the dataframe.  If you have the path similarity scores in a list called `scores`, you can do this using `df['path']=scores`\n",
        "\n",
        "Repeat for the Resnik and Lin similarity scores.\n"
      ]
    },
    {
      "cell_type": "code",
      "execution_count": null,
      "metadata": {
        "colab": {
          "base_uri": "https://localhost:8080/",
          "height": 979
        },
        "id": "NahtYzofx0Xe",
        "outputId": "3b33efcb-1f92-4331-a45c-aa4965669344"
      },
      "outputs": [
        {
          "data": {
            "text/html": [
              "<div>\n",
              "<style scoped>\n",
              "    .dataframe tbody tr th:only-of-type {\n",
              "        vertical-align: middle;\n",
              "    }\n",
              "\n",
              "    .dataframe tbody tr th {\n",
              "        vertical-align: top;\n",
              "    }\n",
              "\n",
              "    .dataframe thead th {\n",
              "        text-align: right;\n",
              "    }\n",
              "</style>\n",
              "<table border=\"1\" class=\"dataframe\">\n",
              "  <thead>\n",
              "    <tr style=\"text-align: right;\">\n",
              "      <th></th>\n",
              "      <th>word1</th>\n",
              "      <th>word2</th>\n",
              "      <th>human similarity</th>\n",
              "      <th>path</th>\n",
              "      <th>res</th>\n",
              "      <th>lin</th>\n",
              "    </tr>\n",
              "  </thead>\n",
              "  <tbody>\n",
              "    <tr>\n",
              "      <th>0</th>\n",
              "      <td>asylum</td>\n",
              "      <td>madhouse</td>\n",
              "      <td>3.61</td>\n",
              "      <td>0.500000</td>\n",
              "      <td>9.475167</td>\n",
              "      <td>0.855584</td>\n",
              "    </tr>\n",
              "    <tr>\n",
              "      <th>1</th>\n",
              "      <td>bird</td>\n",
              "      <td>cock</td>\n",
              "      <td>3.05</td>\n",
              "      <td>0.500000</td>\n",
              "      <td>7.677755</td>\n",
              "      <td>0.773937</td>\n",
              "    </tr>\n",
              "    <tr>\n",
              "      <th>2</th>\n",
              "      <td>bird</td>\n",
              "      <td>crane</td>\n",
              "      <td>2.97</td>\n",
              "      <td>0.250000</td>\n",
              "      <td>7.677755</td>\n",
              "      <td>0.747812</td>\n",
              "    </tr>\n",
              "    <tr>\n",
              "      <th>3</th>\n",
              "      <td>boy</td>\n",
              "      <td>lad</td>\n",
              "      <td>3.76</td>\n",
              "      <td>0.500000</td>\n",
              "      <td>8.399492</td>\n",
              "      <td>0.830562</td>\n",
              "    </tr>\n",
              "    <tr>\n",
              "      <th>4</th>\n",
              "      <td>brother</td>\n",
              "      <td>monk</td>\n",
              "      <td>2.82</td>\n",
              "      <td>0.500000</td>\n",
              "      <td>9.261593</td>\n",
              "      <td>0.986407</td>\n",
              "    </tr>\n",
              "    <tr>\n",
              "      <th>5</th>\n",
              "      <td>car</td>\n",
              "      <td>automobile</td>\n",
              "      <td>3.92</td>\n",
              "      <td>1.000000</td>\n",
              "      <td>7.591401</td>\n",
              "      <td>1.000000</td>\n",
              "    </tr>\n",
              "    <tr>\n",
              "      <th>6</th>\n",
              "      <td>cemetery</td>\n",
              "      <td>woodland</td>\n",
              "      <td>0.95</td>\n",
              "      <td>0.111111</td>\n",
              "      <td>1.290026</td>\n",
              "      <td>0.123441</td>\n",
              "    </tr>\n",
              "    <tr>\n",
              "      <th>7</th>\n",
              "      <td>chord</td>\n",
              "      <td>smile</td>\n",
              "      <td>0.13</td>\n",
              "      <td>0.090909</td>\n",
              "      <td>2.619644</td>\n",
              "      <td>0.246256</td>\n",
              "    </tr>\n",
              "    <tr>\n",
              "      <th>8</th>\n",
              "      <td>coast</td>\n",
              "      <td>forest</td>\n",
              "      <td>0.42</td>\n",
              "      <td>0.166667</td>\n",
              "      <td>1.290026</td>\n",
              "      <td>0.130646</td>\n",
              "    </tr>\n",
              "    <tr>\n",
              "      <th>9</th>\n",
              "      <td>coast</td>\n",
              "      <td>hill</td>\n",
              "      <td>0.87</td>\n",
              "      <td>0.200000</td>\n",
              "      <td>5.884681</td>\n",
              "      <td>0.599113</td>\n",
              "    </tr>\n",
              "    <tr>\n",
              "      <th>10</th>\n",
              "      <td>coast</td>\n",
              "      <td>shore</td>\n",
              "      <td>3.70</td>\n",
              "      <td>0.500000</td>\n",
              "      <td>9.415744</td>\n",
              "      <td>0.963217</td>\n",
              "    </tr>\n",
              "    <tr>\n",
              "      <th>11</th>\n",
              "      <td>crane</td>\n",
              "      <td>implement</td>\n",
              "      <td>1.68</td>\n",
              "      <td>0.200000</td>\n",
              "      <td>3.257679</td>\n",
              "      <td>0.359057</td>\n",
              "    </tr>\n",
              "    <tr>\n",
              "      <th>12</th>\n",
              "      <td>food</td>\n",
              "      <td>fruit</td>\n",
              "      <td>3.08</td>\n",
              "      <td>0.100000</td>\n",
              "      <td>1.592755</td>\n",
              "      <td>0.160984</td>\n",
              "    </tr>\n",
              "    <tr>\n",
              "      <th>13</th>\n",
              "      <td>food</td>\n",
              "      <td>rooster</td>\n",
              "      <td>0.89</td>\n",
              "      <td>0.062500</td>\n",
              "      <td>0.801759</td>\n",
              "      <td>0.091932</td>\n",
              "    </tr>\n",
              "    <tr>\n",
              "      <th>14</th>\n",
              "      <td>forest</td>\n",
              "      <td>graveyard</td>\n",
              "      <td>0.84</td>\n",
              "      <td>0.111111</td>\n",
              "      <td>1.290026</td>\n",
              "      <td>0.123441</td>\n",
              "    </tr>\n",
              "    <tr>\n",
              "      <th>15</th>\n",
              "      <td>furnace</td>\n",
              "      <td>stove</td>\n",
              "      <td>3.11</td>\n",
              "      <td>0.100000</td>\n",
              "      <td>2.305849</td>\n",
              "      <td>0.228138</td>\n",
              "    </tr>\n",
              "    <tr>\n",
              "      <th>16</th>\n",
              "      <td>gem</td>\n",
              "      <td>jewel</td>\n",
              "      <td>3.84</td>\n",
              "      <td>1.000000</td>\n",
              "      <td>12.067705</td>\n",
              "      <td>1.000000</td>\n",
              "    </tr>\n",
              "    <tr>\n",
              "      <th>17</th>\n",
              "      <td>glass</td>\n",
              "      <td>magician</td>\n",
              "      <td>0.11</td>\n",
              "      <td>0.125000</td>\n",
              "      <td>2.282647</td>\n",
              "      <td>0.214168</td>\n",
              "    </tr>\n",
              "    <tr>\n",
              "      <th>18</th>\n",
              "      <td>journey</td>\n",
              "      <td>car</td>\n",
              "      <td>1.16</td>\n",
              "      <td>0.055556</td>\n",
              "      <td>0.000000</td>\n",
              "      <td>0.000000</td>\n",
              "    </tr>\n",
              "    <tr>\n",
              "      <th>19</th>\n",
              "      <td>journey</td>\n",
              "      <td>voyage</td>\n",
              "      <td>3.84</td>\n",
              "      <td>0.500000</td>\n",
              "      <td>6.825958</td>\n",
              "      <td>0.777715</td>\n",
              "    </tr>\n",
              "    <tr>\n",
              "      <th>20</th>\n",
              "      <td>lad</td>\n",
              "      <td>brother</td>\n",
              "      <td>1.66</td>\n",
              "      <td>0.200000</td>\n",
              "      <td>2.333545</td>\n",
              "      <td>0.255175</td>\n",
              "    </tr>\n",
              "    <tr>\n",
              "      <th>21</th>\n",
              "      <td>lad</td>\n",
              "      <td>wizard</td>\n",
              "      <td>0.42</td>\n",
              "      <td>0.200000</td>\n",
              "      <td>2.333545</td>\n",
              "      <td>0.255091</td>\n",
              "    </tr>\n",
              "    <tr>\n",
              "      <th>22</th>\n",
              "      <td>magician</td>\n",
              "      <td>wizard</td>\n",
              "      <td>3.50</td>\n",
              "      <td>1.000000</td>\n",
              "      <td>11.980693</td>\n",
              "      <td>1.000000</td>\n",
              "    </tr>\n",
              "    <tr>\n",
              "      <th>23</th>\n",
              "      <td>midday</td>\n",
              "      <td>noon</td>\n",
              "      <td>3.42</td>\n",
              "      <td>1.000000</td>\n",
              "      <td>11.064403</td>\n",
              "      <td>1.000000</td>\n",
              "    </tr>\n",
              "    <tr>\n",
              "      <th>24</th>\n",
              "      <td>monk</td>\n",
              "      <td>oracle</td>\n",
              "      <td>1.10</td>\n",
              "      <td>0.125000</td>\n",
              "      <td>2.333545</td>\n",
              "      <td>0.225652</td>\n",
              "    </tr>\n",
              "    <tr>\n",
              "      <th>25</th>\n",
              "      <td>monk</td>\n",
              "      <td>slave</td>\n",
              "      <td>0.55</td>\n",
              "      <td>0.200000</td>\n",
              "      <td>2.333545</td>\n",
              "      <td>0.254311</td>\n",
              "    </tr>\n",
              "    <tr>\n",
              "      <th>26</th>\n",
              "      <td>noon</td>\n",
              "      <td>string</td>\n",
              "      <td>0.08</td>\n",
              "      <td>0.083333</td>\n",
              "      <td>0.596229</td>\n",
              "      <td>0.066172</td>\n",
              "    </tr>\n",
              "    <tr>\n",
              "      <th>27</th>\n",
              "      <td>rooster</td>\n",
              "      <td>voyage</td>\n",
              "      <td>0.08</td>\n",
              "      <td>0.041667</td>\n",
              "      <td>0.000000</td>\n",
              "      <td>0.000000</td>\n",
              "    </tr>\n",
              "    <tr>\n",
              "      <th>28</th>\n",
              "      <td>shore</td>\n",
              "      <td>woodland</td>\n",
              "      <td>0.63</td>\n",
              "      <td>0.200000</td>\n",
              "      <td>1.290026</td>\n",
              "      <td>0.135583</td>\n",
              "    </tr>\n",
              "    <tr>\n",
              "      <th>29</th>\n",
              "      <td>tool</td>\n",
              "      <td>implement</td>\n",
              "      <td>1.68</td>\n",
              "      <td>0.500000</td>\n",
              "      <td>5.877389</td>\n",
              "      <td>0.947154</td>\n",
              "    </tr>\n",
              "  </tbody>\n",
              "</table>\n",
              "</div>"
            ],
            "text/plain": [
              "       word1       word2  human similarity      path        res       lin\n",
              "0     asylum    madhouse              3.61  0.500000   9.475167  0.855584\n",
              "1       bird        cock              3.05  0.500000   7.677755  0.773937\n",
              "2       bird       crane              2.97  0.250000   7.677755  0.747812\n",
              "3        boy         lad              3.76  0.500000   8.399492  0.830562\n",
              "4    brother        monk              2.82  0.500000   9.261593  0.986407\n",
              "5        car  automobile              3.92  1.000000   7.591401  1.000000\n",
              "6   cemetery    woodland              0.95  0.111111   1.290026  0.123441\n",
              "7      chord       smile              0.13  0.090909   2.619644  0.246256\n",
              "8      coast      forest              0.42  0.166667   1.290026  0.130646\n",
              "9      coast        hill              0.87  0.200000   5.884681  0.599113\n",
              "10     coast       shore              3.70  0.500000   9.415744  0.963217\n",
              "11     crane   implement              1.68  0.200000   3.257679  0.359057\n",
              "12      food       fruit              3.08  0.100000   1.592755  0.160984\n",
              "13      food     rooster              0.89  0.062500   0.801759  0.091932\n",
              "14    forest   graveyard              0.84  0.111111   1.290026  0.123441\n",
              "15   furnace       stove              3.11  0.100000   2.305849  0.228138\n",
              "16       gem       jewel              3.84  1.000000  12.067705  1.000000\n",
              "17     glass    magician              0.11  0.125000   2.282647  0.214168\n",
              "18   journey         car              1.16  0.055556   0.000000  0.000000\n",
              "19   journey      voyage              3.84  0.500000   6.825958  0.777715\n",
              "20       lad     brother              1.66  0.200000   2.333545  0.255175\n",
              "21       lad      wizard              0.42  0.200000   2.333545  0.255091\n",
              "22  magician      wizard              3.50  1.000000  11.980693  1.000000\n",
              "23    midday        noon              3.42  1.000000  11.064403  1.000000\n",
              "24      monk      oracle              1.10  0.125000   2.333545  0.225652\n",
              "25      monk       slave              0.55  0.200000   2.333545  0.254311\n",
              "26      noon      string              0.08  0.083333   0.596229  0.066172\n",
              "27   rooster      voyage              0.08  0.041667   0.000000  0.000000\n",
              "28     shore    woodland              0.63  0.200000   1.290026  0.135583\n",
              "29      tool   implement              1.68  0.500000   5.877389  0.947154"
            ]
          },
          "execution_count": 33,
          "metadata": {},
          "output_type": "execute_result"
        }
      ],
      "source": [
        "measures=[\"path\",\"res\",\"lin\"]\n",
        "for measure in measures:\n",
        "    scores=[]\n",
        "\n",
        "    for triple in mcdata:\n",
        "        scores.append(word_similarity(triple[0],triple[1],measure=measure))\n",
        "    df[measure]=scores\n",
        "    \n",
        "df"
      ]
    },
    {
      "cell_type": "markdown",
      "metadata": {
        "id": "8YVoa9A7x0Xk"
      },
      "source": [
        "We can use pandas functionality to produce scatter plots and examine the correlation between different variables"
      ]
    },
    {
      "cell_type": "code",
      "execution_count": null,
      "metadata": {
        "colab": {
          "base_uri": "https://localhost:8080/",
          "height": 279
        },
        "id": "jUJzNFiqx0Xl",
        "outputId": "352675db-c6ee-4683-e674-3b58b9dae838"
      },
      "outputs": [
        {
          "data": {
            "text/plain": [
              "<AxesSubplot:xlabel='human similarity', ylabel='path'>"
            ]
          },
          "execution_count": 34,
          "metadata": {},
          "output_type": "execute_result"
        },
        {
          "data": {
            "image/png": "[encoded data removed]",
            "text/plain": [
              "<Figure size 432x288 with 1 Axes>"
            ]
          },
          "metadata": {
            "needs_background": "light"
          },
          "output_type": "display_data"
        }
      ],
      "source": [
        "%matplotlib inline\n",
        "\n",
        "x=\"human similarity\"\n",
        "y=\"path\"\n",
        "\n",
        "df.plot.scatter(x,y)"
      ]
    },
    {
      "cell_type": "markdown",
      "metadata": {
        "id": "zlFZwzqjx0Xp"
      },
      "source": [
        "### Exercise 3.2\n",
        "Generate scatter plots showing Resnik similarity against human similarity and Lin similarity against human similarity."
      ]
    },
    {
      "cell_type": "code",
      "execution_count": null,
      "metadata": {
        "colab": {
          "base_uri": "https://localhost:8080/",
          "height": 279
        },
        "id": "yISMpAd-x0Xr",
        "outputId": "bb641055-0c7b-42fd-a79e-8e12a167540e"
      },
      "outputs": [
        {
          "data": {
            "text/plain": [
              "<AxesSubplot:xlabel='human similarity', ylabel='res'>"
            ]
          },
          "execution_count": 35,
          "metadata": {},
          "output_type": "execute_result"
        },
        {
          "data": {
            "image/png": "[encoded data removed]",
            "text/plain": [
              "<Figure size 432x288 with 1 Axes>"
            ]
          },
          "metadata": {
            "needs_background": "light"
          },
          "output_type": "display_data"
        }
      ],
      "source": [
        "df.plot.scatter(\"human similarity\",\"res\")"
      ]
    },
    {
      "cell_type": "code",
      "execution_count": null,
      "metadata": {
        "colab": {
          "base_uri": "https://localhost:8080/",
          "height": 279
        },
        "id": "oTaqyFdQx0Xu",
        "outputId": "2b5c94c8-3703-4d80-ee25-2355445be583"
      },
      "outputs": [
        {
          "data": {
            "text/plain": [
              "<AxesSubplot:xlabel='human similarity', ylabel='lin'>"
            ]
          },
          "execution_count": 36,
          "metadata": {},
          "output_type": "execute_result"
        },
        {
          "data": {
            "image/png": "[encoded data removed]",
            "text/plain": [
              "<Figure size 432x288 with 1 Axes>"
            ]
          },
          "metadata": {
            "needs_background": "light"
          },
          "output_type": "display_data"
        }
      ],
      "source": [
        "df.plot.scatter(\"human similarity\",\"lin\")"
      ]
    },
    {
      "cell_type": "markdown",
      "metadata": {
        "id": "S-GNK8DAx0X7"
      },
      "source": [
        "The `DataFrame.corr()` method will compute the correlation for all pairs of columns with numeric values.  It is better to use Spearman's rank correlation coefficient than Pearson's product-moment correlation coefficient, since similarity scores are unlikely to be normally distributed."
      ]
    },
    {
      "cell_type": "code",
      "execution_count": null,
      "metadata": {
        "colab": {
          "base_uri": "https://localhost:8080/",
          "height": 173
        },
        "id": "_NAOCoUOx0X8",
        "outputId": "da106af2-adba-40f8-990d-d3a8f347a1f7"
      },
      "outputs": [
        {
          "data": {
            "text/html": [
              "<div>\n",
              "<style scoped>\n",
              "    .dataframe tbody tr th:only-of-type {\n",
              "        vertical-align: middle;\n",
              "    }\n",
              "\n",
              "    .dataframe tbody tr th {\n",
              "        vertical-align: top;\n",
              "    }\n",
              "\n",
              "    .dataframe thead th {\n",
              "        text-align: right;\n",
              "    }\n",
              "</style>\n",
              "<table border=\"1\" class=\"dataframe\">\n",
              "  <thead>\n",
              "    <tr style=\"text-align: right;\">\n",
              "      <th></th>\n",
              "      <th>human similarity</th>\n",
              "      <th>path</th>\n",
              "      <th>res</th>\n",
              "      <th>lin</th>\n",
              "    </tr>\n",
              "  </thead>\n",
              "  <tbody>\n",
              "    <tr>\n",
              "      <th>human similarity</th>\n",
              "      <td>1.000000</td>\n",
              "      <td>0.722743</td>\n",
              "      <td>0.735945</td>\n",
              "      <td>0.753510</td>\n",
              "    </tr>\n",
              "    <tr>\n",
              "      <th>path</th>\n",
              "      <td>0.722743</td>\n",
              "      <td>1.000000</td>\n",
              "      <td>0.900648</td>\n",
              "      <td>0.945509</td>\n",
              "    </tr>\n",
              "    <tr>\n",
              "      <th>res</th>\n",
              "      <td>0.735945</td>\n",
              "      <td>0.900648</td>\n",
              "      <td>1.000000</td>\n",
              "      <td>0.962707</td>\n",
              "    </tr>\n",
              "    <tr>\n",
              "      <th>lin</th>\n",
              "      <td>0.753510</td>\n",
              "      <td>0.945509</td>\n",
              "      <td>0.962707</td>\n",
              "      <td>1.000000</td>\n",
              "    </tr>\n",
              "  </tbody>\n",
              "</table>\n",
              "</div>"
            ],
            "text/plain": [
              "                  human similarity      path       res       lin\n",
              "human similarity          1.000000  0.722743  0.735945  0.753510\n",
              "path                      0.722743  1.000000  0.900648  0.945509\n",
              "res                       0.735945  0.900648  1.000000  0.962707\n",
              "lin                       0.753510  0.945509  0.962707  1.000000"
            ]
          },
          "execution_count": 37,
          "metadata": {},
          "output_type": "execute_result"
        }
      ],
      "source": [
        "df.corr(method='spearman')"
      ]
    },
    {
      "cell_type": "markdown",
      "metadata": {
        "id": "ORzNGby0x0YH"
      },
      "source": [
        "### Exercise 3.3\n",
        "* Looking at the scatter plots and the correlation coefficients, what do you conclude about the different WordNet similarity measures?\n",
        "* Do you have any reservations about your conclusions?"
      ]
    },
    {
      "cell_type": "code",
      "execution_count": null,
      "metadata": {
        "id": "_Wbpkgtbx0YJ"
      },
      "outputs": [],
      "source": []
    }
  ],
  "metadata": {
    "colab": {
      "collapsed_sections": [],
      "provenance": []
    },
    "kernelspec": {
      "display_name": "Python 3",
      "language": "python",
      "name": "python3"
    },
    "language_info": {
      "codemirror_mode": {
        "name": "ipython",
        "version": 3
      },
      "file_extension": ".py",
      "mimetype": "text/x-python",
      "name": "python",
      "nbconvert_exporter": "python",
      "pygments_lexer": "ipython3",
      "version": "3.7.4"
    }
  },
  "nbformat": 4,
  "nbformat_minor": 0
}